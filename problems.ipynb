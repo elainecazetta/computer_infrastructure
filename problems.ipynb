{
 "cells": [
  {
   "cell_type": "markdown",
   "id": "24869df4",
   "metadata": {},
   "source": [
    "# Computer Infrastructure"
   ]
  },
  {
   "cell_type": "markdown",
   "id": "4369e996",
   "metadata": {},
   "source": [
    "## Problem 1 – Data from yfinance"
   ]
  },
  {
   "cell_type": "markdown",
   "id": "d3c785e8",
   "metadata": {},
   "source": [
    "### Requirements:\n",
    "\n",
    "Using the [yfinance](https://github.com/ranaroussi/yfinance) Python package, write a function called `get_data()` that downloads all hourly data for the previous five days for the five FAANG stocks:\n",
    "\n",
    "- Facebook (META)\n",
    "- Apple (AAPL)\n",
    "- Amazon (AMZN)\n",
    "- Netflix (NFLX)\n",
    "- Google (GOOG)\n",
    "\n",
    "The function should save the data into a folder called `data` in the root of your repository using a filename with the format `YYYYMMDD-HHmmss.csv` where `YYYYMMDD` is the four-digit year (e.g. 2025), followed by the two-digit month (e.g. `09` for September), followed by the two digit day, and `HHmmss` is hour, minutes, seconds.\n",
    "Create the `data` folder if you don't already have one."
   ]
  },
  {
   "cell_type": "code",
   "execution_count": null,
   "id": "1a62fc09",
   "metadata": {},
   "outputs": [],
   "source": [
    "# Yahoo Finance data.\n",
    "import yfinance as yf"
   ]
  },
  {
   "cell_type": "markdown",
   "id": "4515d9f9",
   "metadata": {},
   "source": [
    "## Problem 2: Plotting Data"
   ]
  },
  {
   "cell_type": "markdown",
   "id": "a55e44ac",
   "metadata": {},
   "source": [
    "### Requirements:"
   ]
  },
  {
   "cell_type": "markdown",
   "id": "447a09ec",
   "metadata": {},
   "source": [
    "Write a function called `plot_data()` that opens the latest data file in the `data` folder and, on one plot, plots the `Close` prices for each of the five stocks.\n",
    "The plot should include axis labels, a legend, and the date as a title.\n",
    "The function should save the plot into a `plots` folder in the root of your repository using a filename in the format `YYYYMMDD-HHmmss.png`.\n",
    "Create the `plots` folder if you don't already have one."
   ]
  },
  {
   "cell_type": "markdown",
   "id": "20634743",
   "metadata": {},
   "source": [
    "## Problem 3: Script"
   ]
  },
  {
   "cell_type": "markdown",
   "id": "dc2b997c",
   "metadata": {},
   "source": [
    "### Requirements:"
   ]
  },
  {
   "cell_type": "markdown",
   "id": "d98d85ee",
   "metadata": {},
   "source": [
    "Create a Python script called `faang.py` in the root of your repository.\n",
    "Copy the above functions into it and it so that whenever someone at the terminal types `./faang.py`, the script runs, downloading the data and creating the plot.\n",
    "Note that this will require a shebang line and the script to be marked executable.\n",
    "Explain the steps you took in your notebook."
   ]
  },
  {
   "cell_type": "markdown",
   "id": "dd8265d5",
   "metadata": {},
   "source": [
    "## Problem 4: Automation"
   ]
  },
  {
   "cell_type": "markdown",
   "id": "835a04f9",
   "metadata": {},
   "source": [
    "### Requirements:"
   ]
  },
  {
   "cell_type": "markdown",
   "id": "6581a358",
   "metadata": {},
   "source": [
    "Create a [GitHub Actions workflow](https://docs.github.com/en/actions) to run your script every Saturday morning.\n",
    "The script should be called `faang.yml` in a `.github/workflows/` folder in the root of your repository.\n",
    "In your notebook, explain each of the individual lines in your workflow."
   ]
  },
  {
   "cell_type": "markdown",
   "id": "1d00e48c",
   "metadata": {},
   "source": [
    "## End"
   ]
  }
 ],
 "metadata": {
  "language_info": {
   "name": "python"
  }
 },
 "nbformat": 4,
 "nbformat_minor": 5
}
