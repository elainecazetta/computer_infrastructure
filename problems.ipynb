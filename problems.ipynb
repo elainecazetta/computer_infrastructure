{
 "cells": [
  {
   "cell_type": "markdown",
   "id": "24869df4",
   "metadata": {},
   "source": [
    "# Computer Infrastructure"
   ]
  },
  {
   "cell_type": "markdown",
   "id": "4369e996",
   "metadata": {},
   "source": [
    "## Problem 1 – Data from yfinance"
   ]
  },
  {
   "cell_type": "markdown",
   "id": "d3c785e8",
   "metadata": {},
   "source": [
    "### - Requirements:\n",
    "\n",
    "Using the [yfinance](https://github.com/ranaroussi/yfinance) Python package, write a function called `get_data()` that downloads all hourly data for the previous five days for the five FAANG stocks:\n",
    "\n",
    "- Facebook (META)\n",
    "- Apple (AAPL)\n",
    "- Amazon (AMZN)\n",
    "- Netflix (NFLX)\n",
    "- Google (GOOG)\n",
    "\n",
    "The function should save the data into a folder called `data` in the root of your repository using a filename with the format `YYYYMMDD-HHmmss.csv` where `YYYYMMDD` is the four-digit year (e.g. 2025), followed by the two-digit month (e.g. `09` for September), followed by the two digit day, and `HHmmss` is hour, minutes, seconds.\n",
    "Create the `data` folder if you don't already have one."
   ]
  },
  {
   "cell_type": "code",
   "execution_count": 8,
   "id": "1a62fc09",
   "metadata": {},
   "outputs": [],
   "source": [
    "# Yahoo Finance data.\n",
    "import yfinance as yf"
   ]
  },
  {
   "cell_type": "code",
   "execution_count": 11,
   "id": "fddf1a47",
   "metadata": {},
   "outputs": [
    {
     "name": "stderr",
     "output_type": "stream",
     "text": [
      "/tmp/ipykernel_40622/248821367.py:2: FutureWarning: YF.download() has changed argument auto_adjust default to True\n",
      "  yf.download(['META', 'AAPL', 'AMZN', 'NFLX', 'GOOG'], period='5d')\n",
      "[*********************100%***********************]  5 of 5 completed\n"
     ]
    },
    {
     "data": {
      "text/html": [
       "<div>\n",
       "<style scoped>\n",
       "    .dataframe tbody tr th:only-of-type {\n",
       "        vertical-align: middle;\n",
       "    }\n",
       "\n",
       "    .dataframe tbody tr th {\n",
       "        vertical-align: top;\n",
       "    }\n",
       "\n",
       "    .dataframe thead tr th {\n",
       "        text-align: left;\n",
       "    }\n",
       "\n",
       "    .dataframe thead tr:last-of-type th {\n",
       "        text-align: right;\n",
       "    }\n",
       "</style>\n",
       "<table border=\"1\" class=\"dataframe\">\n",
       "  <thead>\n",
       "    <tr>\n",
       "      <th>Price</th>\n",
       "      <th colspan=\"5\" halign=\"left\">Close</th>\n",
       "      <th colspan=\"5\" halign=\"left\">High</th>\n",
       "      <th>...</th>\n",
       "      <th colspan=\"5\" halign=\"left\">Open</th>\n",
       "      <th colspan=\"5\" halign=\"left\">Volume</th>\n",
       "    </tr>\n",
       "    <tr>\n",
       "      <th>Ticker</th>\n",
       "      <th>AAPL</th>\n",
       "      <th>AMZN</th>\n",
       "      <th>GOOG</th>\n",
       "      <th>META</th>\n",
       "      <th>NFLX</th>\n",
       "      <th>AAPL</th>\n",
       "      <th>AMZN</th>\n",
       "      <th>GOOG</th>\n",
       "      <th>META</th>\n",
       "      <th>NFLX</th>\n",
       "      <th>...</th>\n",
       "      <th>AAPL</th>\n",
       "      <th>AMZN</th>\n",
       "      <th>GOOG</th>\n",
       "      <th>META</th>\n",
       "      <th>NFLX</th>\n",
       "      <th>AAPL</th>\n",
       "      <th>AMZN</th>\n",
       "      <th>GOOG</th>\n",
       "      <th>META</th>\n",
       "      <th>NFLX</th>\n",
       "    </tr>\n",
       "    <tr>\n",
       "      <th>Date</th>\n",
       "      <th></th>\n",
       "      <th></th>\n",
       "      <th></th>\n",
       "      <th></th>\n",
       "      <th></th>\n",
       "      <th></th>\n",
       "      <th></th>\n",
       "      <th></th>\n",
       "      <th></th>\n",
       "      <th></th>\n",
       "      <th></th>\n",
       "      <th></th>\n",
       "      <th></th>\n",
       "      <th></th>\n",
       "      <th></th>\n",
       "      <th></th>\n",
       "      <th></th>\n",
       "      <th></th>\n",
       "      <th></th>\n",
       "      <th></th>\n",
       "      <th></th>\n",
       "    </tr>\n",
       "  </thead>\n",
       "  <tbody>\n",
       "    <tr>\n",
       "      <th>2025-10-13</th>\n",
       "      <td>247.660004</td>\n",
       "      <td>220.070007</td>\n",
       "      <td>244.639999</td>\n",
       "      <td>715.700012</td>\n",
       "      <td>1219.030029</td>\n",
       "      <td>249.690002</td>\n",
       "      <td>220.679993</td>\n",
       "      <td>244.990005</td>\n",
       "      <td>719.940002</td>\n",
       "      <td>1231.119995</td>\n",
       "      <td>...</td>\n",
       "      <td>249.380005</td>\n",
       "      <td>217.699997</td>\n",
       "      <td>241.029999</td>\n",
       "      <td>713.010010</td>\n",
       "      <td>1221.349976</td>\n",
       "      <td>38142900</td>\n",
       "      <td>37809700</td>\n",
       "      <td>12465000</td>\n",
       "      <td>9251800</td>\n",
       "      <td>2460800</td>\n",
       "    </tr>\n",
       "    <tr>\n",
       "      <th>2025-10-14</th>\n",
       "      <td>247.770004</td>\n",
       "      <td>216.389999</td>\n",
       "      <td>246.190002</td>\n",
       "      <td>708.650024</td>\n",
       "      <td>1215.349976</td>\n",
       "      <td>248.850006</td>\n",
       "      <td>219.320007</td>\n",
       "      <td>248.024994</td>\n",
       "      <td>715.549988</td>\n",
       "      <td>1224.290039</td>\n",
       "      <td>...</td>\n",
       "      <td>246.600006</td>\n",
       "      <td>215.559998</td>\n",
       "      <td>241.755005</td>\n",
       "      <td>707.780029</td>\n",
       "      <td>1214.750000</td>\n",
       "      <td>35478000</td>\n",
       "      <td>45665600</td>\n",
       "      <td>17705400</td>\n",
       "      <td>8829800</td>\n",
       "      <td>2362400</td>\n",
       "    </tr>\n",
       "    <tr>\n",
       "      <th>2025-10-15</th>\n",
       "      <td>249.339996</td>\n",
       "      <td>215.570007</td>\n",
       "      <td>251.710007</td>\n",
       "      <td>717.549988</td>\n",
       "      <td>1203.290039</td>\n",
       "      <td>251.820007</td>\n",
       "      <td>217.710007</td>\n",
       "      <td>252.759995</td>\n",
       "      <td>723.900024</td>\n",
       "      <td>1219.619995</td>\n",
       "      <td>...</td>\n",
       "      <td>249.490005</td>\n",
       "      <td>216.619995</td>\n",
       "      <td>248.085007</td>\n",
       "      <td>717.059998</td>\n",
       "      <td>1213.010010</td>\n",
       "      <td>33893600</td>\n",
       "      <td>45909500</td>\n",
       "      <td>16048100</td>\n",
       "      <td>10246800</td>\n",
       "      <td>2025200</td>\n",
       "    </tr>\n",
       "    <tr>\n",
       "      <th>2025-10-16</th>\n",
       "      <td>247.449997</td>\n",
       "      <td>214.470001</td>\n",
       "      <td>251.880005</td>\n",
       "      <td>712.070007</td>\n",
       "      <td>1183.589966</td>\n",
       "      <td>249.039993</td>\n",
       "      <td>218.589996</td>\n",
       "      <td>257.579987</td>\n",
       "      <td>725.489990</td>\n",
       "      <td>1216.709961</td>\n",
       "      <td>...</td>\n",
       "      <td>248.250000</td>\n",
       "      <td>215.669998</td>\n",
       "      <td>252.464996</td>\n",
       "      <td>717.549988</td>\n",
       "      <td>1212.150024</td>\n",
       "      <td>39777000</td>\n",
       "      <td>42414600</td>\n",
       "      <td>18946000</td>\n",
       "      <td>9017000</td>\n",
       "      <td>2832600</td>\n",
       "    </tr>\n",
       "    <tr>\n",
       "      <th>2025-10-17</th>\n",
       "      <td>252.289993</td>\n",
       "      <td>213.039993</td>\n",
       "      <td>253.789993</td>\n",
       "      <td>716.914978</td>\n",
       "      <td>1199.359985</td>\n",
       "      <td>253.380005</td>\n",
       "      <td>214.800003</td>\n",
       "      <td>254.876999</td>\n",
       "      <td>718.539978</td>\n",
       "      <td>1203.119995</td>\n",
       "      <td>...</td>\n",
       "      <td>248.020004</td>\n",
       "      <td>214.559998</td>\n",
       "      <td>251.350006</td>\n",
       "      <td>707.075012</td>\n",
       "      <td>1183.599976</td>\n",
       "      <td>47982990</td>\n",
       "      <td>43119976</td>\n",
       "      <td>17302137</td>\n",
       "      <td>12034603</td>\n",
       "      <td>2910084</td>\n",
       "    </tr>\n",
       "  </tbody>\n",
       "</table>\n",
       "<p>5 rows × 25 columns</p>\n",
       "</div>"
      ],
      "text/plain": [
       "Price            Close                                                   \\\n",
       "Ticker            AAPL        AMZN        GOOG        META         NFLX   \n",
       "Date                                                                      \n",
       "2025-10-13  247.660004  220.070007  244.639999  715.700012  1219.030029   \n",
       "2025-10-14  247.770004  216.389999  246.190002  708.650024  1215.349976   \n",
       "2025-10-15  249.339996  215.570007  251.710007  717.549988  1203.290039   \n",
       "2025-10-16  247.449997  214.470001  251.880005  712.070007  1183.589966   \n",
       "2025-10-17  252.289993  213.039993  253.789993  716.914978  1199.359985   \n",
       "\n",
       "Price             High                                                   ...  \\\n",
       "Ticker            AAPL        AMZN        GOOG        META         NFLX  ...   \n",
       "Date                                                                     ...   \n",
       "2025-10-13  249.690002  220.679993  244.990005  719.940002  1231.119995  ...   \n",
       "2025-10-14  248.850006  219.320007  248.024994  715.549988  1224.290039  ...   \n",
       "2025-10-15  251.820007  217.710007  252.759995  723.900024  1219.619995  ...   \n",
       "2025-10-16  249.039993  218.589996  257.579987  725.489990  1216.709961  ...   \n",
       "2025-10-17  253.380005  214.800003  254.876999  718.539978  1203.119995  ...   \n",
       "\n",
       "Price             Open                                                   \\\n",
       "Ticker            AAPL        AMZN        GOOG        META         NFLX   \n",
       "Date                                                                      \n",
       "2025-10-13  249.380005  217.699997  241.029999  713.010010  1221.349976   \n",
       "2025-10-14  246.600006  215.559998  241.755005  707.780029  1214.750000   \n",
       "2025-10-15  249.490005  216.619995  248.085007  717.059998  1213.010010   \n",
       "2025-10-16  248.250000  215.669998  252.464996  717.549988  1212.150024   \n",
       "2025-10-17  248.020004  214.559998  251.350006  707.075012  1183.599976   \n",
       "\n",
       "Price         Volume                                         \n",
       "Ticker          AAPL      AMZN      GOOG      META     NFLX  \n",
       "Date                                                         \n",
       "2025-10-13  38142900  37809700  12465000   9251800  2460800  \n",
       "2025-10-14  35478000  45665600  17705400   8829800  2362400  \n",
       "2025-10-15  33893600  45909500  16048100  10246800  2025200  \n",
       "2025-10-16  39777000  42414600  18946000   9017000  2832600  \n",
       "2025-10-17  47982990  43119976  17302137  12034603  2910084  \n",
       "\n",
       "[5 rows x 25 columns]"
      ]
     },
     "execution_count": 11,
     "metadata": {},
     "output_type": "execute_result"
    }
   ],
   "source": [
    "# Download FAANG stocks data:\n",
    "yf.download(['META', 'AAPL', 'AMZN', 'NFLX', 'GOOG'], period='5d')"
   ]
  },
  {
   "cell_type": "code",
   "execution_count": 10,
   "id": "693245fd",
   "metadata": {},
   "outputs": [],
   "source": [
    "# Print data for visualisation:\n"
   ]
  },
  {
   "cell_type": "markdown",
   "id": "4515d9f9",
   "metadata": {},
   "source": [
    "## Problem 2: Plotting Data"
   ]
  },
  {
   "cell_type": "markdown",
   "id": "a55e44ac",
   "metadata": {},
   "source": [
    "### - Requirements:"
   ]
  },
  {
   "cell_type": "markdown",
   "id": "447a09ec",
   "metadata": {},
   "source": [
    "Write a function called `plot_data()` that opens the latest data file in the `data` folder and, on one plot, plots the `Close` prices for each of the five stocks.\n",
    "The plot should include axis labels, a legend, and the date as a title.\n",
    "The function should save the plot into a `plots` folder in the root of your repository using a filename in the format `YYYYMMDD-HHmmss.png`.\n",
    "Create the `plots` folder if you don't already have one."
   ]
  },
  {
   "cell_type": "markdown",
   "id": "20634743",
   "metadata": {},
   "source": [
    "## Problem 3: Script"
   ]
  },
  {
   "cell_type": "markdown",
   "id": "dc2b997c",
   "metadata": {},
   "source": [
    "### - Requirements:"
   ]
  },
  {
   "cell_type": "markdown",
   "id": "d98d85ee",
   "metadata": {},
   "source": [
    "Create a Python script called `faang.py` in the root of your repository.\n",
    "Copy the above functions into it and it so that whenever someone at the terminal types `./faang.py`, the script runs, downloading the data and creating the plot.\n",
    "Note that this will require a shebang line and the script to be marked executable.\n",
    "Explain the steps you took in your notebook."
   ]
  },
  {
   "cell_type": "markdown",
   "id": "dd8265d5",
   "metadata": {},
   "source": [
    "## Problem 4: Automation"
   ]
  },
  {
   "cell_type": "markdown",
   "id": "835a04f9",
   "metadata": {},
   "source": [
    "### - Requirements:"
   ]
  },
  {
   "cell_type": "markdown",
   "id": "6581a358",
   "metadata": {},
   "source": [
    "Create a [GitHub Actions workflow](https://docs.github.com/en/actions) to run your script every Saturday morning.\n",
    "The script should be called `faang.yml` in a `.github/workflows/` folder in the root of your repository.\n",
    "In your notebook, explain each of the individual lines in your workflow."
   ]
  },
  {
   "cell_type": "markdown",
   "id": "1d00e48c",
   "metadata": {},
   "source": [
    "## End"
   ]
  }
 ],
 "metadata": {
  "kernelspec": {
   "display_name": "Python 3",
   "language": "python",
   "name": "python3"
  },
  "language_info": {
   "codemirror_mode": {
    "name": "ipython",
    "version": 3
   },
   "file_extension": ".py",
   "mimetype": "text/x-python",
   "name": "python",
   "nbconvert_exporter": "python",
   "pygments_lexer": "ipython3",
   "version": "3.12.1"
  }
 },
 "nbformat": 4,
 "nbformat_minor": 5
}
