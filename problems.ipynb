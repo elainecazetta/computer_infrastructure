{
 "cells": [
  {
   "cell_type": "markdown",
   "id": "4369e996",
   "metadata": {},
   "source": [
    "# Problem 1 – Data from yfinance"
   ]
  },
  {
   "cell_type": "markdown",
   "id": "d3c785e8",
   "metadata": {},
   "source": []
  },
  {
   "cell_type": "markdown",
   "id": "4a76f659",
   "metadata": {},
   "source": []
  },
  {
   "cell_type": "markdown",
   "id": "80e81bf5",
   "metadata": {},
   "source": []
  }
 ],
 "metadata": {
  "language_info": {
   "name": "python"
  }
 },
 "nbformat": 4,
 "nbformat_minor": 5
}
